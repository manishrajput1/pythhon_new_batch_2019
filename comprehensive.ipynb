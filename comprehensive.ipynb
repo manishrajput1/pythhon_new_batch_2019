{
 "cells": [
  {
   "cell_type": "code",
   "execution_count": 9,
   "metadata": {},
   "outputs": [
    {
     "name": "stdout",
     "output_type": "stream",
     "text": [
      "* * * * \n",
      "*     * \n",
      "* * * * \n",
      "*       \n",
      "*       \n",
      "*       \n"
     ]
    }
   ],
   "source": [
    "for row in range(6):\n",
    "    for col in range(4):\n",
    "        if col==0 or row==0 or row==2 or (col==3 and row<3):\n",
    "            \n",
    "            print('*',end=' ')\n",
    "        else:\n",
    "            print(end='  ')\n",
    "    print()\n",
    "    "
   ]
  },
  {
   "cell_type": "markdown",
   "metadata": {},
   "source": [
    "<h1 style='color:red'>List comprehensive</h1>"
   ]
  },
  {
   "cell_type": "code",
   "execution_count": 28,
   "metadata": {},
   "outputs": [],
   "source": [
    "import random\n",
    "l=[random.randint(1,10) for var in range(100)] # iter var for iter in sequence"
   ]
  },
  {
   "cell_type": "code",
   "execution_count": 29,
   "metadata": {},
   "outputs": [
    {
     "name": "stdout",
     "output_type": "stream",
     "text": [
      "[9, 8, 7, 3, 3, 8, 7, 10, 3, 8, 6, 4, 4, 6, 10, 3, 1, 10, 9, 3, 10, 2, 9, 10, 5, 7, 6, 2, 7, 8, 4, 6, 5, 1, 5, 9, 3, 2, 4, 8, 4, 3, 10, 8, 5, 6, 5, 2, 8, 2, 8, 5, 2, 4, 4, 7, 7, 7, 3, 4, 4, 7, 5, 3, 1, 3, 7, 4, 4, 5, 1, 1, 4, 5, 2, 1, 3, 3, 7, 10, 7, 6, 7, 1, 10, 6, 6, 7, 3, 9, 4, 4, 7, 4, 1, 6, 3, 4, 10, 4]\n"
     ]
    }
   ],
   "source": [
    "print(l)"
   ]
  },
  {
   "cell_type": "code",
   "execution_count": 13,
   "metadata": {},
   "outputs": [],
   "source": [
    "l=[]\n",
    "for var in range(1,100,+2):\n",
    "    l.append(var)"
   ]
  },
  {
   "cell_type": "code",
   "execution_count": 14,
   "metadata": {},
   "outputs": [
    {
     "name": "stdout",
     "output_type": "stream",
     "text": [
      "[1, 3, 5, 7, 9, 11, 13, 15, 17, 19, 21, 23, 25, 27, 29, 31, 33, 35, 37, 39, 41, 43, 45, 47, 49, 51, 53, 55, 57, 59, 61, 63, 65, 67, 69, 71, 73, 75, 77, 79, 81, 83, 85, 87, 89, 91, 93, 95, 97, 99]\n"
     ]
    }
   ],
   "source": [
    "print(l)"
   ]
  },
  {
   "cell_type": "code",
   "execution_count": 30,
   "metadata": {},
   "outputs": [],
   "source": [
    "l=[var for var in range(100) if var%5==0]"
   ]
  },
  {
   "cell_type": "code",
   "execution_count": 31,
   "metadata": {},
   "outputs": [
    {
     "name": "stdout",
     "output_type": "stream",
     "text": [
      "[0, 5, 10, 15, 20, 25, 30, 35, 40, 45, 50, 55, 60, 65, 70, 75, 80, 85, 90, 95]\n"
     ]
    }
   ],
   "source": [
    "print(l)"
   ]
  },
  {
   "cell_type": "code",
   "execution_count": 38,
   "metadata": {},
   "outputs": [],
   "source": [
    "l=[f'{var}=hello' if var%5==0 else f'{var}=False' for var in range(100)]"
   ]
  },
  {
   "cell_type": "code",
   "execution_count": 39,
   "metadata": {},
   "outputs": [
    {
     "name": "stdout",
     "output_type": "stream",
     "text": [
      "['0=hello', '1=False', '2=False', '3=False', '4=False', '5=hello', '6=False', '7=False', '8=False', '9=False', '10=hello', '11=False', '12=False', '13=False', '14=False', '15=hello', '16=False', '17=False', '18=False', '19=False', '20=hello', '21=False', '22=False', '23=False', '24=False', '25=hello', '26=False', '27=False', '28=False', '29=False', '30=hello', '31=False', '32=False', '33=False', '34=False', '35=hello', '36=False', '37=False', '38=False', '39=False', '40=hello', '41=False', '42=False', '43=False', '44=False', '45=hello', '46=False', '47=False', '48=False', '49=False', '50=hello', '51=False', '52=False', '53=False', '54=False', '55=hello', '56=False', '57=False', '58=False', '59=False', '60=hello', '61=False', '62=False', '63=False', '64=False', '65=hello', '66=False', '67=False', '68=False', '69=False', '70=hello', '71=False', '72=False', '73=False', '74=False', '75=hello', '76=False', '77=False', '78=False', '79=False', '80=hello', '81=False', '82=False', '83=False', '84=False', '85=hello', '86=False', '87=False', '88=False', '89=False', '90=hello', '91=False', '92=False', '93=False', '94=False', '95=hello', '96=False', '97=False', '98=False', '99=False']\n"
     ]
    }
   ],
   "source": [
    "print(l)"
   ]
  },
  {
   "cell_type": "code",
   "execution_count": 40,
   "metadata": {},
   "outputs": [],
   "source": [
    "l1=[f'{var}={var**2}' if var%2==0 else f'{var}={var**3}' for var in range(100) ]"
   ]
  },
  {
   "cell_type": "code",
   "execution_count": 41,
   "metadata": {},
   "outputs": [
    {
     "name": "stdout",
     "output_type": "stream",
     "text": [
      "['0=0', '1=1', '2=4', '3=27', '4=16', '5=125', '6=36', '7=343', '8=64', '9=729', '10=100', '11=1331', '12=144', '13=2197', '14=196', '15=3375', '16=256', '17=4913', '18=324', '19=6859', '20=400', '21=9261', '22=484', '23=12167', '24=576', '25=15625', '26=676', '27=19683', '28=784', '29=24389', '30=900', '31=29791', '32=1024', '33=35937', '34=1156', '35=42875', '36=1296', '37=50653', '38=1444', '39=59319', '40=1600', '41=68921', '42=1764', '43=79507', '44=1936', '45=91125', '46=2116', '47=103823', '48=2304', '49=117649', '50=2500', '51=132651', '52=2704', '53=148877', '54=2916', '55=166375', '56=3136', '57=185193', '58=3364', '59=205379', '60=3600', '61=226981', '62=3844', '63=250047', '64=4096', '65=274625', '66=4356', '67=300763', '68=4624', '69=328509', '70=4900', '71=357911', '72=5184', '73=389017', '74=5476', '75=421875', '76=5776', '77=456533', '78=6084', '79=493039', '80=6400', '81=531441', '82=6724', '83=571787', '84=7056', '85=614125', '86=7396', '87=658503', '88=7744', '89=704969', '90=8100', '91=753571', '92=8464', '93=804357', '94=8836', '95=857375', '96=9216', '97=912673', '98=9604', '99=970299']\n"
     ]
    }
   ],
   "source": [
    "print(l1)"
   ]
  },
  {
   "cell_type": "code",
   "execution_count": 48,
   "metadata": {},
   "outputs": [],
   "source": [
    "t=tuple(var for var in range(100))"
   ]
  },
  {
   "cell_type": "code",
   "execution_count": 49,
   "metadata": {},
   "outputs": [
    {
     "name": "stdout",
     "output_type": "stream",
     "text": [
      "(0, 1, 2, 3, 4, 5, 6, 7, 8, 9, 10, 11, 12, 13, 14, 15, 16, 17, 18, 19, 20, 21, 22, 23, 24, 25, 26, 27, 28, 29, 30, 31, 32, 33, 34, 35, 36, 37, 38, 39, 40, 41, 42, 43, 44, 45, 46, 47, 48, 49, 50, 51, 52, 53, 54, 55, 56, 57, 58, 59, 60, 61, 62, 63, 64, 65, 66, 67, 68, 69, 70, 71, 72, 73, 74, 75, 76, 77, 78, 79, 80, 81, 82, 83, 84, 85, 86, 87, 88, 89, 90, 91, 92, 93, 94, 95, 96, 97, 98, 99)\n"
     ]
    }
   ],
   "source": [
    "print(t)"
   ]
  },
  {
   "cell_type": "code",
   "execution_count": 51,
   "metadata": {},
   "outputs": [],
   "source": [
    "l=[var for var in range(100) ]"
   ]
  },
  {
   "cell_type": "code",
   "execution_count": 52,
   "metadata": {},
   "outputs": [
    {
     "name": "stdout",
     "output_type": "stream",
     "text": [
      "[0, 1, 2, 3, 4, 5, 6, 7, 8, 9, 10, 11, 12, 13, 14, 15, 16, 17, 18, 19, 20, 21, 22, 23, 24, 25, 26, 27, 28, 29, 30, 31, 32, 33, 34, 35, 36, 37, 38, 39, 40, 41, 42, 43, 44, 45, 46, 47, 48, 49, 50, 51, 52, 53, 54, 55, 56, 57, 58, 59, 60, 61, 62, 63, 64, 65, 66, 67, 68, 69, 70, 71, 72, 73, 74, 75, 76, 77, 78, 79, 80, 81, 82, 83, 84, 85, 86, 87, 88, 89, 90, 91, 92, 93, 94, 95, 96, 97, 98, 99]\n"
     ]
    }
   ],
   "source": [
    "print(l)"
   ]
  },
  {
   "cell_type": "code",
   "execution_count": 58,
   "metadata": {},
   "outputs": [
    {
     "name": "stdout",
     "output_type": "stream",
     "text": [
      "412\n"
     ]
    }
   ],
   "source": [
    "print(t.__sizeof__())"
   ]
  },
  {
   "cell_type": "code",
   "execution_count": 59,
   "metadata": {},
   "outputs": [
    {
     "name": "stdout",
     "output_type": "stream",
     "text": [
      "444\n"
     ]
    }
   ],
   "source": [
    "print(l.__sizeof__())"
   ]
  },
  {
   "cell_type": "code",
   "execution_count": 62,
   "metadata": {},
   "outputs": [],
   "source": [
    "s=[random.randint(1,10) for var in range(100)]"
   ]
  },
  {
   "cell_type": "code",
   "execution_count": 66,
   "metadata": {},
   "outputs": [
    {
     "name": "stdout",
     "output_type": "stream",
     "text": [
      "[5, 7, 9, 3, 7, 1, 8, 8, 5, 10, 5, 2, 4, 10, 7, 4, 9, 5, 8, 3, 10, 1, 7, 10, 1, 1, 7, 8, 6, 5, 5, 6, 7, 2, 7, 10, 9, 6, 4, 4, 3, 9, 8, 7, 5, 4, 8, 4, 9, 5, 4, 7, 4, 2, 1, 7, 4, 10, 5, 7, 7, 5, 3, 7, 1, 4, 1, 5, 5, 6, 2, 1, 4, 8, 2, 6, 9, 6, 5, 5, 9, 5, 1, 5, 3, 7, 1, 5, 5, 3, 2, 10, 1, 8, 5, 4, 2, 4, 6, 9]\n",
      "<class 'list'>\n"
     ]
    }
   ],
   "source": [
    "print(s)\n",
    "print(type(s))"
   ]
  },
  {
   "cell_type": "code",
   "execution_count": 64,
   "metadata": {},
   "outputs": [],
   "source": [
    "s1=set(s)"
   ]
  },
  {
   "cell_type": "code",
   "execution_count": 65,
   "metadata": {},
   "outputs": [
    {
     "name": "stdout",
     "output_type": "stream",
     "text": [
      "<class 'set'>\n"
     ]
    }
   ],
   "source": [
    "print(type(s1))"
   ]
  },
  {
   "cell_type": "code",
   "execution_count": 67,
   "metadata": {},
   "outputs": [
    {
     "data": {
      "text/plain": [
       "{1, 2, 3, 4, 5, 6, 7, 8, 9, 10}"
      ]
     },
     "execution_count": 67,
     "metadata": {},
     "output_type": "execute_result"
    }
   ],
   "source": [
    "s1"
   ]
  },
  {
   "cell_type": "code",
   "execution_count": 69,
   "metadata": {},
   "outputs": [],
   "source": [
    "data=open('C:\\\\Users\\\\user\\\\Desktop\\\\anirudh.txt','w')"
   ]
  },
  {
   "cell_type": "code",
   "execution_count": 70,
   "metadata": {},
   "outputs": [
    {
     "data": {
      "text/plain": [
       "13"
      ]
     },
     "execution_count": 70,
     "metadata": {},
     "output_type": "execute_result"
    }
   ],
   "source": [
    "data.write('hello python ')"
   ]
  },
  {
   "cell_type": "code",
   "execution_count": 71,
   "metadata": {},
   "outputs": [],
   "source": [
    "data.close()"
   ]
  },
  {
   "cell_type": "code",
   "execution_count": null,
   "metadata": {},
   "outputs": [],
   "source": []
  }
 ],
 "metadata": {
  "kernelspec": {
   "display_name": "Python 3",
   "language": "python",
   "name": "python3"
  },
  "language_info": {
   "codemirror_mode": {
    "name": "ipython",
    "version": 3
   },
   "file_extension": ".py",
   "mimetype": "text/x-python",
   "name": "python",
   "nbconvert_exporter": "python",
   "pygments_lexer": "ipython3",
   "version": "3.7.0"
  }
 },
 "nbformat": 4,
 "nbformat_minor": 2
}
