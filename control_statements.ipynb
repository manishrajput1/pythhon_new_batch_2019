{
 "cells": [
  {
   "cell_type": "code",
   "execution_count": 1,
   "metadata": {},
   "outputs": [
    {
     "name": "stdout",
     "output_type": "stream",
     "text": [
      "Enter your name  : \n",
      "You bastard !!!! give me your name \n"
     ]
    }
   ],
   "source": [
    "name = input(\"Enter your name  : \")\n",
    "\n",
    "if name : \n",
    "    print(\"Welcome back my boy : \",name)\n",
    "else : \n",
    "    print(\"You bastard !!!! give me your name \")"
   ]
  },
  {
   "cell_type": "code",
   "execution_count": null,
   "metadata": {},
   "outputs": [],
   "source": []
  },
  {
   "cell_type": "code",
   "execution_count": 2,
   "metadata": {},
   "outputs": [
    {
     "name": "stdout",
     "output_type": "stream",
     "text": [
      "Before if\n",
      "I will only print if condition is True manish\n",
      "After if\n"
     ]
    }
   ],
   "source": [
    "print(\"Before if\")\n",
    "x = True and 'manish'\n",
    "if  x :\n",
    "    print(\"I will only print if condition is True\",x)\n",
    "else :\n",
    "    print(\"Hey you are here because condition is false\")\n",
    "print(\"After if\")"
   ]
  },
  {
   "cell_type": "code",
   "execution_count": 3,
   "metadata": {},
   "outputs": [],
   "source": [
    "d = { 'name':'manish','age':21,'country':'india','language':'hindi'}"
   ]
  },
  {
   "cell_type": "code",
   "execution_count": 4,
   "metadata": {},
   "outputs": [
    {
     "name": "stdout",
     "output_type": "stream",
     "text": [
      "Enter key to know about manish : \n"
     ]
    },
    {
     "data": {
      "text/plain": [
       "False"
      ]
     },
     "execution_count": 4,
     "metadata": {},
     "output_type": "execute_result"
    }
   ],
   "source": [
    "d.get(input(\"Enter key to know about manish : \"),False)"
   ]
  },
  {
   "cell_type": "code",
   "execution_count": 5,
   "metadata": {},
   "outputs": [
    {
     "name": "stdout",
     "output_type": "stream",
     "text": [
      "Enter key to know about manish : \n",
      "Sorry!!!Unable to Process!!\n",
      "     There is no item available regrading your quires\n"
     ]
    }
   ],
   "source": [
    "data = d.get(input(\"Enter key to know about manish : \"),False)\n",
    "\n",
    "if data : \n",
    "    print(\"Here is the information : \",data)\n",
    "else :\n",
    "    print(\"Sorry!!!Unable to Process!!\\n \\\n",
    "    There is no item available regrading your quires\")"
   ]
  },
  {
   "cell_type": "code",
   "execution_count": 6,
   "metadata": {},
   "outputs": [
    {
     "name": "stdout",
     "output_type": "stream",
     "text": [
      "Guess number : 87\n",
      "Bhai thod km soch ye jyada ho gya\n"
     ]
    }
   ],
   "source": [
    "num = 23\n",
    "user = int(input(\"Guess number : \"))\n",
    "\n",
    "if num == user : \n",
    "    print(\"Waa !! shii hai jeet gya apna bhai\")\n",
    "elif num < user : \n",
    "    print(\"Bhai thod km soch ye jyada ho gya\")\n",
    "else : \n",
    "    print(\"thoda bada socho\")"
   ]
  },
  {
   "cell_type": "code",
   "execution_count": 7,
   "metadata": {},
   "outputs": [
    {
     "name": "stdout",
     "output_type": "stream",
     "text": [
      "Enter x : 76\n",
      "Enter y : 89\n",
      "Enter z : 54\n",
      "x = 76, y = 89, z = 54\n",
      "89 is greatest.\n"
     ]
    }
   ],
   "source": [
    "#greatest among 3\n",
    "x = int(input(\"Enter x : \"))\n",
    "y = int(input(\"Enter y : \"))\n",
    "z = int(input(\"Enter z : \"))\n",
    "\n",
    "s = \"x = {}, y = {}, z = {}\".format(x,y,z)\n",
    "#s = \"x = \"+str(x)+\"y = \"+str(y)+\"z = \"+str(z)\n",
    "#print(\"x = \",x,\", y = \",y,\"z = \",z)\n",
    "print(s)\n",
    "\n",
    "if x >= y and x >= z : \n",
    "    print(\"{} is greatest.\".format(x))\n",
    "elif y >= x and y >= z :\n",
    "    print(\"%d is greatest.\"%(y))\n",
    "else : \n",
    "    print(\"{} is greatest.\".format(z))"
   ]
  },
  {
   "cell_type": "code",
   "execution_count": null,
   "metadata": {},
   "outputs": [],
   "source": []
  }
 ],
 "metadata": {
  "kernelspec": {
   "display_name": "Python 3",
   "language": "python",
   "name": "python3"
  },
  "language_info": {
   "codemirror_mode": {
    "name": "ipython",
    "version": 3
   },
   "file_extension": ".py",
   "mimetype": "text/x-python",
   "name": "python",
   "nbconvert_exporter": "python",
   "pygments_lexer": "ipython3",
   "version": "3.7.0"
  }
 },
 "nbformat": 4,
 "nbformat_minor": 2
}
