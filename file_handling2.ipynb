{
 "cells": [
  {
   "cell_type": "code",
   "execution_count": 11,
   "metadata": {},
   "outputs": [],
   "source": [
    "s='78,78,79,90'"
   ]
  },
  {
   "cell_type": "code",
   "execution_count": 12,
   "metadata": {},
   "outputs": [
    {
     "name": "stdout",
     "output_type": "stream",
     "text": [
      "78,78,79,90\n"
     ]
    }
   ],
   "source": [
    "print(s)"
   ]
  },
  {
   "cell_type": "code",
   "execution_count": 13,
   "metadata": {},
   "outputs": [],
   "source": [
    "s=s.split(',')"
   ]
  },
  {
   "cell_type": "code",
   "execution_count": 14,
   "metadata": {},
   "outputs": [
    {
     "data": {
      "text/plain": [
       "['78', '78', '79', '90']"
      ]
     },
     "execution_count": 14,
     "metadata": {},
     "output_type": "execute_result"
    }
   ],
   "source": [
    "s"
   ]
  },
  {
   "cell_type": "code",
   "execution_count": 15,
   "metadata": {},
   "outputs": [],
   "source": [
    "s=' '.join(s)"
   ]
  },
  {
   "cell_type": "code",
   "execution_count": 16,
   "metadata": {},
   "outputs": [
    {
     "name": "stdout",
     "output_type": "stream",
     "text": [
      "78 78 79 90\n"
     ]
    }
   ],
   "source": [
    "print(s)"
   ]
  },
  {
   "cell_type": "code",
   "execution_count": 17,
   "metadata": {},
   "outputs": [
    {
     "name": "stdout",
     "output_type": "stream",
     "text": [
      "enter student data:id,name,eng,math,sci\n",
      "enter student data:1,rahul,89,90,98\n",
      "enter student data:2,jeet,76,56,78\n",
      "enter student data:3,shan,90,98,76\n",
      "enter student data:4,mann,76,56,78\n"
     ]
    }
   ],
   "source": [
    "data=open('C:\\\\Users\\\\user\\\\Desktop\\\\shubham_res.txt','a')\n",
    "for var in range(5):\n",
    "    d=input('enter student data:').split(',')\n",
    "    d='\\t'.join(d)\n",
    "    d=d+'\\n'\n",
    "    data.write(d)\n",
    "data.close()\n",
    "    "
   ]
  },
  {
   "cell_type": "code",
   "execution_count": 18,
   "metadata": {},
   "outputs": [],
   "source": [
    "data=open('C:\\\\Users\\\\user\\\\Desktop\\\\shubham_res.txt','r')\n",
    "data=data.read()"
   ]
  },
  {
   "cell_type": "code",
   "execution_count": 19,
   "metadata": {},
   "outputs": [
    {
     "name": "stdout",
     "output_type": "stream",
     "text": [
      "id\tname\teng\tmath\tsci\n",
      "1\trahul\t89\t90\t98\n",
      "2\tjeet\t76\t56\t78\n",
      "3\tshan\t90\t98\t76\n",
      "4\tmann\t76\t56\t78\n",
      "\n"
     ]
    }
   ],
   "source": [
    "print(data)"
   ]
  },
  {
   "cell_type": "code",
   "execution_count": 22,
   "metadata": {},
   "outputs": [
    {
     "name": "stdout",
     "output_type": "stream",
     "text": [
      "enter student id:1 2 3 4 5\n",
      "['1', '2', '3', '4', '5']\n",
      "enter student name:raj mohan hemant\n",
      "['raj', 'mohan', 'hemant']\n",
      "enter student marks:nkasnkjsn;oi\n",
      "['nkasnkjsn;oi']\n"
     ]
    }
   ],
   "source": [
    "l=['id','name','marks']\n",
    "for var in range(3):\n",
    "    d=input(f\"enter student {l[var]}:\").split()\n",
    "    print(d)"
   ]
  },
  {
   "cell_type": "code",
   "execution_count": 21,
   "metadata": {},
   "outputs": [
    {
     "name": "stdout",
     "output_type": "stream",
     "text": [
      "['1\\t2\\t3\\t4\\t5\\n', 'mann\\traj\\trahul\\themant\\n', '78\\t78\\t78\\t89\\t90\\n']\n"
     ]
    }
   ],
   "source": [
    "print(l)"
   ]
  },
  {
   "cell_type": "code",
   "execution_count": 24,
   "metadata": {},
   "outputs": [
    {
     "name": "stdout",
     "output_type": "stream",
     "text": [
      "id\tname\teng\tmath\tsci\n",
      "1\trahul\t89\t90\t98\n",
      "2\tjeet\t76\t56\t78\n",
      "3\tshan\t90\t98\t76\n",
      "4\tmann\t76\t56\t78\n",
      "\n"
     ]
    }
   ],
   "source": [
    "print(data)"
   ]
  },
  {
   "cell_type": "code",
   "execution_count": 25,
   "metadata": {},
   "outputs": [
    {
     "data": {
      "text/plain": [
       "\"'id\\\\tname\\\\teng\\\\tmath\\\\tsci\\\\n1\\\\trahul\\\\t89\\\\t90\\\\t98\\\\n2\\\\tjeet\\\\t76\\\\t56\\\\t78\\\\n3\\\\tshan\\\\t90\\\\t98\\\\t76\\\\n4\\\\tmann\\\\t76\\\\t56\\\\t78\\\\n'\""
      ]
     },
     "execution_count": 25,
     "metadata": {},
     "output_type": "execute_result"
    }
   ],
   "source": [
    "repr(data)"
   ]
  },
  {
   "cell_type": "code",
   "execution_count": 26,
   "metadata": {},
   "outputs": [],
   "source": [
    "data=data.split('\\n')"
   ]
  },
  {
   "cell_type": "code",
   "execution_count": 27,
   "metadata": {},
   "outputs": [
    {
     "data": {
      "text/plain": [
       "\"['id\\\\tname\\\\teng\\\\tmath\\\\tsci', '1\\\\trahul\\\\t89\\\\t90\\\\t98', '2\\\\tjeet\\\\t76\\\\t56\\\\t78', '3\\\\tshan\\\\t90\\\\t98\\\\t76', '4\\\\tmann\\\\t76\\\\t56\\\\t78', '']\""
      ]
     },
     "execution_count": 27,
     "metadata": {},
     "output_type": "execute_result"
    }
   ],
   "source": [
    "repr(data)"
   ]
  },
  {
   "cell_type": "code",
   "execution_count": 65,
   "metadata": {},
   "outputs": [],
   "source": [
    "head=data[0]"
   ]
  },
  {
   "cell_type": "code",
   "execution_count": 34,
   "metadata": {},
   "outputs": [],
   "source": [
    "body=data[1:-1]"
   ]
  },
  {
   "cell_type": "code",
   "execution_count": 35,
   "metadata": {},
   "outputs": [
    {
     "data": {
      "text/plain": [
       "\"['1\\\\trahul\\\\t89\\\\t90\\\\t98', '2\\\\tjeet\\\\t76\\\\t56\\\\t78', '3\\\\tshan\\\\t90\\\\t98\\\\t76', '4\\\\tmann\\\\t76\\\\t56\\\\t78']\""
      ]
     },
     "execution_count": 35,
     "metadata": {},
     "output_type": "execute_result"
    }
   ],
   "source": [
    "repr(body)"
   ]
  },
  {
   "cell_type": "code",
   "execution_count": 40,
   "metadata": {},
   "outputs": [
    {
     "name": "stdout",
     "output_type": "stream",
     "text": [
      "['1\\trahul\\t89\\t90\\t98\\t92.33333333333333', '2\\tjeet\\t76\\t56\\t78\\t70.0', '3\\tshan\\t90\\t98\\t76\\t88.0', '4\\tmann\\t76\\t56\\t78\\t70.0']\n"
     ]
    }
   ],
   "source": [
    "l=[]\n",
    "for line in body:\n",
    "    d=line.split('\\t')\n",
    "    d[2]=int(d[2])\n",
    "    d[3]=int(d[3])\n",
    "    d[4]=int(d[4])\n",
    "    d.append((d[2]+d[3]+d[4])/300*100) #d[5]\n",
    "    d[2]=str(d[2])\n",
    "    d[3]=str(d[3])\n",
    "    d[4]=str(d[4])\n",
    "    d[5]=str(d[5])\n",
    "    d='\\t'.join(d)\n",
    "    l.append(d)\n",
    "\n",
    "print(l)\n",
    "    "
   ]
  },
  {
   "cell_type": "code",
   "execution_count": 46,
   "metadata": {},
   "outputs": [],
   "source": [
    "l='\\n'.join(l)"
   ]
  },
  {
   "cell_type": "code",
   "execution_count": 47,
   "metadata": {},
   "outputs": [
    {
     "name": "stdout",
     "output_type": "stream",
     "text": [
      "1\trahul\t89\t90\t98\t92.33333333333333\n",
      "2\tjeet\t76\t56\t78\t70.0\n",
      "3\tshan\t90\t98\t76\t88.0\n",
      "4\tmann\t76\t56\t78\t70.0\n"
     ]
    }
   ],
   "source": [
    "print(l)"
   ]
  },
  {
   "cell_type": "code",
   "execution_count": 44,
   "metadata": {},
   "outputs": [
    {
     "name": "stdout",
     "output_type": "stream",
     "text": [
      "id\tname\teng\tmath\tsci\n"
     ]
    },
    {
     "data": {
      "text/plain": [
       "str"
      ]
     },
     "execution_count": 44,
     "metadata": {},
     "output_type": "execute_result"
    }
   ],
   "source": [
    "print(head)\n",
    "type(head)"
   ]
  },
  {
   "cell_type": "code",
   "execution_count": 66,
   "metadata": {},
   "outputs": [
    {
     "name": "stdout",
     "output_type": "stream",
     "text": [
      "['id', 'name', 'eng', 'math', 'sci', 'total']\n"
     ]
    }
   ],
   "source": [
    "type(l)\n",
    "\n",
    "head=head.split('\\t')\n",
    "head.append('total')\n",
    "print(head)\n",
    "head='\\t'.join(head)"
   ]
  },
  {
   "cell_type": "code",
   "execution_count": 67,
   "metadata": {},
   "outputs": [],
   "source": [
    "final=head+'\\n'+l"
   ]
  },
  {
   "cell_type": "code",
   "execution_count": 68,
   "metadata": {},
   "outputs": [
    {
     "name": "stdout",
     "output_type": "stream",
     "text": [
      "id\tname\teng\tmath\tsci\ttotal\n",
      "1\trahul\t89\t90\t98\t92.33333333333333\n",
      "2\tjeet\t76\t56\t78\t70.0\n",
      "3\tshan\t90\t98\t76\t88.0\n",
      "4\tmann\t76\t56\t78\t70.0\n"
     ]
    }
   ],
   "source": [
    "print(final)"
   ]
  },
  {
   "cell_type": "code",
   "execution_count": 54,
   "metadata": {},
   "outputs": [],
   "source": [
    "s='hello'\n",
    "s1='python'"
   ]
  },
  {
   "cell_type": "code",
   "execution_count": 57,
   "metadata": {},
   "outputs": [
    {
     "name": "stdout",
     "output_type": "stream",
     "text": [
      "hellopython\n"
     ]
    }
   ],
   "source": [
    "print(s+s1)"
   ]
  },
  {
   "cell_type": "code",
   "execution_count": 69,
   "metadata": {},
   "outputs": [],
   "source": [
    "d={2:'hello',5:'python',1:'mann'}"
   ]
  },
  {
   "cell_type": "code",
   "execution_count": 73,
   "metadata": {},
   "outputs": [],
   "source": [
    "s=d.keys()"
   ]
  },
  {
   "cell_type": "code",
   "execution_count": 77,
   "metadata": {},
   "outputs": [
    {
     "data": {
      "text/plain": [
       "[1, 2, 5]"
      ]
     },
     "execution_count": 77,
     "metadata": {},
     "output_type": "execute_result"
    }
   ],
   "source": [
    "sorted(s)"
   ]
  },
  {
   "cell_type": "code",
   "execution_count": 101,
   "metadata": {},
   "outputs": [],
   "source": [
    "data=open(\"C:\\\\users\\\\user\\\\Desktop\\\\json.txt\",'w')"
   ]
  },
  {
   "cell_type": "code",
   "execution_count": 102,
   "metadata": {},
   "outputs": [
    {
     "ename": "TypeError",
     "evalue": "write() argument must be str, not dict",
     "output_type": "error",
     "traceback": [
      "\u001b[1;31m---------------------------------------------------------------------------\u001b[0m",
      "\u001b[1;31mTypeError\u001b[0m                                 Traceback (most recent call last)",
      "\u001b[1;32m<ipython-input-102-9b6dff8910d8>\u001b[0m in \u001b[0;36m<module>\u001b[1;34m\u001b[0m\n\u001b[1;32m----> 1\u001b[1;33m \u001b[0mdata\u001b[0m\u001b[1;33m.\u001b[0m\u001b[0mwrite\u001b[0m\u001b[1;33m(\u001b[0m\u001b[0md\u001b[0m\u001b[1;33m)\u001b[0m\u001b[1;33m\u001b[0m\u001b[0m\n\u001b[0m",
      "\u001b[1;31mTypeError\u001b[0m: write() argument must be str, not dict"
     ]
    }
   ],
   "source": [
    "data.write(d)"
   ]
  },
  {
   "cell_type": "code",
   "execution_count": 103,
   "metadata": {},
   "outputs": [],
   "source": [
    "import json"
   ]
  },
  {
   "cell_type": "code",
   "execution_count": 104,
   "metadata": {},
   "outputs": [],
   "source": [
    "json.dump(d,data)"
   ]
  },
  {
   "cell_type": "code",
   "execution_count": 105,
   "metadata": {},
   "outputs": [],
   "source": [
    " data.close()"
   ]
  },
  {
   "cell_type": "code",
   "execution_count": 109,
   "metadata": {},
   "outputs": [],
   "source": [
    "data=open(\"C:\\\\users\\\\user\\\\Desktop\\\\json.txt\",'r')"
   ]
  },
  {
   "cell_type": "code",
   "execution_count": null,
   "metadata": {},
   "outputs": [],
   "source": []
  },
  {
   "cell_type": "code",
   "execution_count": 110,
   "metadata": {},
   "outputs": [
    {
     "data": {
      "text/plain": [
       "{'1': 'hello', '2': 'python', '3': 'world'}"
      ]
     },
     "execution_count": 110,
     "metadata": {},
     "output_type": "execute_result"
    }
   ],
   "source": [
    "json.load(data)"
   ]
  },
  {
   "cell_type": "code",
   "execution_count": null,
   "metadata": {},
   "outputs": [],
   "source": []
  }
 ],
 "metadata": {
  "kernelspec": {
   "display_name": "Python 3",
   "language": "python",
   "name": "python3"
  },
  "language_info": {
   "codemirror_mode": {
    "name": "ipython",
    "version": 3
   },
   "file_extension": ".py",
   "mimetype": "text/x-python",
   "name": "python",
   "nbconvert_exporter": "python",
   "pygments_lexer": "ipython3",
   "version": "3.7.0"
  }
 },
 "nbformat": 4,
 "nbformat_minor": 2
}
