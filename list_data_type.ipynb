{
 "cells": [
  {
   "cell_type": "markdown",
   "metadata": {},
   "source": [
    "<p><h1>List Data Type</h1><br>\n",
    "<span style='color:red'> combination of items, items can be homogenous or hetrogenous. If all items of list is homogenous then list is known as array. List type is mutable data type.</span><br>\n",
    "\n",
    "Homogenous --> all elements are of same data type<br>\n",
    "\n",
    "Hetrogenous --> all elements are of different different types\n",
    "\n",
    "for Example : - \n",
    "mylist1 = [ 1,2,3,4,5] or mylist2 = ['hi','hello','how' ] are of homogenous list or we can these are arrays \n",
    "mylist2 = [ 1,3.14,'hello','hi',5+6j ] is a hetro genous list\n",
    "\n",
    "Array-->array is collection of similar data types or we can say an array is a collection of homogenous data types.\n",
    "\n",
    "Note:- All arrays are list but all lists are not array</p>"
   ]
  },
  {
   "cell_type": "code",
   "execution_count": 1,
   "metadata": {},
   "outputs": [],
   "source": [
    "programming_languages = [ 'python','java','c','c++','php','.net','shell scripting',\n",
    "                       'c#','scala','pig','go','swift','javascript','r','angular js',\n",
    "                       'node js','block chain','html','css','bootstrap','xml','json',\n",
    "                       'sql','mongodb',]"
   ]
  },
  {
   "cell_type": "code",
   "execution_count": 2,
   "metadata": {},
   "outputs": [
    {
     "name": "stdout",
     "output_type": "stream",
     "text": [
      "['python', 'java', 'c', 'c++', 'php', '.net', 'shell scripting', 'c#', 'scala', 'pig', 'go', 'swift', 'javascript', 'r', 'angular js', 'node js', 'block chain', 'html', 'css', 'bootstrap', 'xml', 'json', 'sql', 'mongodb']\n"
     ]
    }
   ],
   "source": [
    "print(programming_languages)"
   ]
  },
  {
   "cell_type": "code",
   "execution_count": 3,
   "metadata": {},
   "outputs": [
    {
     "name": "stdout",
     "output_type": "stream",
     "text": [
      "Total languages =  24\n"
     ]
    }
   ],
   "source": [
    "print(\"Total languages = \",len(programming_languages))"
   ]
  },
  {
   "cell_type": "code",
   "execution_count": 4,
   "metadata": {},
   "outputs": [
    {
     "name": "stdout",
     "output_type": "stream",
     "text": [
      "Top 5 languages in market :  ['python', 'java', 'c', 'c++', 'php']\n",
      "Last 5 languages in market :  ['bootstrap', 'xml', 'json', 'sql', 'mongodb']\n"
     ]
    }
   ],
   "source": [
    "print(\"Top 5 languages in market : \",programming_languages[:5])\n",
    "print(\"Last 5 languages in market : \",programming_languages[-5:])"
   ]
  },
  {
   "cell_type": "code",
   "execution_count": 5,
   "metadata": {},
   "outputs": [
    {
     "name": "stdout",
     "output_type": "stream",
     "text": [
      "['mongodb', 'sql', 'json', 'xml', 'bootstrap', 'css', 'html', 'block chain', 'node js', 'angular js', 'r', 'javascript', 'swift', 'go', 'pig', 'scala', 'c#', 'shell scripting', '.net', 'php', 'c++', 'c', 'java', 'python']\n"
     ]
    }
   ],
   "source": [
    "n = programming_languages[::-1]\n",
    "print(n)"
   ]
  },
  {
   "cell_type": "code",
   "execution_count": 6,
   "metadata": {},
   "outputs": [
    {
     "name": "stdout",
     "output_type": "stream",
     "text": [
      "['hello', 1, 'something']\n"
     ]
    }
   ],
   "source": [
    "l = [ 'hello', 'bye',1,5.6,'something']\n",
    "print(l[::2])"
   ]
  },
  {
   "cell_type": "code",
   "execution_count": 8,
   "metadata": {},
   "outputs": [
    {
     "name": "stdout",
     "output_type": "stream",
     "text": [
      "['hello', 'my name is manish', 1, 5.6, 'something']\n"
     ]
    }
   ],
   "source": [
    "l[1] = 'my name is manish' #will over-write value on position 1\n",
    "print(l) #this is the proof that list is mutable"
   ]
  },
  {
   "cell_type": "code",
   "execution_count": 9,
   "metadata": {},
   "outputs": [
    {
     "name": "stdout",
     "output_type": "stream",
     "text": [
      "['hello', 'my name is manish', 1, 'something']\n"
     ]
    }
   ],
   "source": [
    "del l[3] # will remove item from position 3 it means 5.6 will be deleted\n",
    "print(l)"
   ]
  },
  {
   "cell_type": "markdown",
   "metadata": {},
   "source": [
    "<span><h1>Built-in functions of list</h1><br>\n",
    "<h2>To add items to a list</h2><br><br><br>\n",
    "\n",
    "list.append(item) --> will add item at the end of list<br><br>\n",
    "list.insert(index,item) --> will add item at position index in list<br>\n",
    "list.extend(sequence) --> will append each item from sequence at the end of the list<br>\n",
    "<h2>To delete items from a list</h2><br>\n",
    "\n",
    "list.pop() --> will delete last item from a list (opposite of append)<br>\n",
    "list.pop(index) ---> will delete item from position index (opposite of insert)<br>\n",
    "list.remove(item) --> will delete first occurence of item from list\n",
    "Some Common Functions of list<br>\n",
    "\n",
    "list.sort() --> will sort all the items inplace in ascending order.<br>\n",
    "list.sort(reverse=True) --> will sort all the items inplace in descending order.<br>\n",
    "Note :- for sort function list should homogenous<br>\n",
    "\n",
    "list.reverse() --> will reverse position of all items in place, same as as list[::-1]\n",
    "list.clear() --> will clear all the item from a list, will create empty list.<br>\n",
    "new_list = list.copy() --> will return a copy of list and store it into new_list<br>\n",
    "item_index = list.index(item) --> will return index number of item or we can say will return position of item from list, if item is not available then it will give an error item not found.<br>\n",
    "item_count = list.count(item) --> will count repeatation of item inside list or will count how many time item occurs inside a list.<span>"
   ]
  },
  {
   "cell_type": "code",
   "execution_count": 10,
   "metadata": {},
   "outputs": [
    {
     "name": "stdout",
     "output_type": "stream",
     "text": [
      "['hello', 1, 2, 3, 'hi']\n",
      "['hello', 1, 2, 3, 'hi', 'manish']\n"
     ]
    }
   ],
   "source": [
    "#to add items\n",
    "l = [ 'hello',1,2,3,'hi',]\n",
    "print(l)\n",
    "#let's add an item at the end of the list\n",
    "l.append('manish')\n",
    "print(l)"
   ]
  },
  {
   "cell_type": "code",
   "execution_count": 11,
   "metadata": {},
   "outputs": [
    {
     "name": "stdout",
     "output_type": "stream",
     "text": [
      "['hello', 1, 2, 3, 'hi', 'manish', 3.14]\n"
     ]
    }
   ],
   "source": [
    "l.append(3.14) # will add 3.14 at the end\n",
    "print(l)"
   ]
  },
  {
   "cell_type": "code",
   "execution_count": 12,
   "metadata": {},
   "outputs": [
    {
     "name": "stdout",
     "output_type": "stream",
     "text": [
      "['hello', 1, 2, 3, 'hi', 'manish', 3.14, [1, 'two', 3, 'four']]\n"
     ]
    }
   ],
   "source": [
    "l.append([1,'two',3,'four']) #will add this list at the end as it is\n",
    "print(l)"
   ]
  },
  {
   "cell_type": "code",
   "execution_count": 15,
   "metadata": {},
   "outputs": [
    {
     "name": "stdout",
     "output_type": "stream",
     "text": [
      "['python', 'hello', 1, 2, 'manish', 3, 'sachin', 'hi', 'manish', 3.14, [1, 'two', 3, 'four']]\n"
     ]
    }
   ],
   "source": [
    "#insert \n",
    "l.insert(4,'manish')\n",
    "print(l)"
   ]
  },
  {
   "cell_type": "code",
   "execution_count": 16,
   "metadata": {},
   "outputs": [
    {
     "name": "stdout",
     "output_type": "stream",
     "text": [
      "['python', 'python', 'hello', 1, 2, 'manish', 3, 'sachin', 'hi', 'manish', 3.14, [1, 'two', 3, 'four']]\n"
     ]
    }
   ],
   "source": [
    "l.insert(0,'python')\n",
    "print(l)"
   ]
  },
  {
   "cell_type": "code",
   "execution_count": 17,
   "metadata": {},
   "outputs": [
    {
     "name": "stdout",
     "output_type": "stream",
     "text": [
      "['java', 'c', 'c++', 'python', 'ruby', 'perl', 'go', 'swift']\n",
      "swift is removed from list.\n",
      "['java', 'c', 'c++', 'python', 'ruby', 'perl', 'go']\n"
     ]
    }
   ],
   "source": [
    "#how to delete items from list\n",
    "l = [ 'java','c','c++','python','ruby','perl','go','swift']\n",
    "# how delete last item --> use pop\n",
    "print(l)\n",
    "item = l.pop()\n",
    "print(item,\"is removed from list.\")\n",
    "print(l)"
   ]
  },
  {
   "cell_type": "code",
   "execution_count": 18,
   "metadata": {},
   "outputs": [
    {
     "name": "stdout",
     "output_type": "stream",
     "text": [
      "['zero', 'one', 'two', 'three', 'four', 'five', 'six']\n",
      "three is deleted\n",
      "['zero', 'one', 'two', 'four', 'five', 'six']\n"
     ]
    }
   ],
   "source": [
    "#if i want to remove item from a certain position\n",
    "#list.pop(index)\n",
    "l = [ 'zero','one','two','three','four','five','six']\n",
    "print(l)\n",
    "item = l.pop(3)\n",
    "print(item,\"is deleted\")\n",
    "print(l)"
   ]
  },
  {
   "cell_type": "code",
   "execution_count": 19,
   "metadata": {},
   "outputs": [
    {
     "name": "stdout",
     "output_type": "stream",
     "text": [
      "[1, 2, 1, 2, 3, 1, 2, 3]\n"
     ]
    }
   ],
   "source": [
    "#there is one more way\n",
    "#if i don't know index number and want to delete a item\n",
    "#remove(item)\n",
    "l = [ 1,2,3,1,2,3,1,2,3]\n",
    "l.remove(3)\n",
    "print(l)"
   ]
  },
  {
   "cell_type": "code",
   "execution_count": 20,
   "metadata": {},
   "outputs": [
    {
     "name": "stdout",
     "output_type": "stream",
     "text": [
      "['hello', 'hi', 'hello', 'hi', 'bye', 'hi', 'hello']\n",
      "['hi', 'hello', 'hi', 'bye', 'hi', 'hello']\n",
      "['hello', 'hi', 'bye', 'hi', 'hello']\n"
     ]
    }
   ],
   "source": [
    "l = [ 'hello','hi','hello','hi','bye','hi','hello']\n",
    "print(l)\n",
    "l.remove('hello')\n",
    "print(l)\n",
    "l.remove('hi')\n",
    "print(l)"
   ]
  },
  {
   "cell_type": "code",
   "execution_count": 21,
   "metadata": {},
   "outputs": [
    {
     "name": "stdout",
     "output_type": "stream",
     "text": [
      "one is repeated time  7\n",
      "two is repeated time  6\n",
      "three is repeated time  1\n"
     ]
    }
   ],
   "source": [
    "l = [ 1,2,3,2,1,2,32,32,1,1,1,12,2,2,1,12,2,1]\n",
    "count_one = l.count(1)\n",
    "count_two = l.count(2)\n",
    "count_three = l.count(3)\n",
    "print(\"one is repeated time \",count_one)\n",
    "print(\"two is repeated time \",count_two)\n",
    "print(\"three is repeated time \",count_three)"
   ]
  },
  {
   "cell_type": "code",
   "execution_count": 22,
   "metadata": {},
   "outputs": [
    {
     "name": "stdout",
     "output_type": "stream",
     "text": [
      "['sachin', 'rahul', 'rajat', 'nidhi', 'hello']\n",
      "['sachin', 'rahul', 'rajat', 'nidhi', 'hello']\n"
     ]
    }
   ],
   "source": [
    "mydata = [ 'sachin','rahul','rajat','nidhi','hello']\n",
    "mydata_copy = mydata.copy()\n",
    "print(mydata)\n",
    "print(mydata_copy)"
   ]
  },
  {
   "cell_type": "code",
   "execution_count": 23,
   "metadata": {},
   "outputs": [
    {
     "name": "stdout",
     "output_type": "stream",
     "text": [
      "[1, 2, 3, 2, 1, 2, 32, 32, 1, 1, 1, 12, 2, 2, 1, 12, 2, 1]\n",
      "[1, 1, 1, 1, 1, 1, 1, 2, 2, 2, 2, 2, 2, 3, 12, 12, 32, 32]\n",
      "[32, 32, 12, 12, 3, 2, 2, 2, 2, 2, 2, 1, 1, 1, 1, 1, 1, 1]\n"
     ]
    }
   ],
   "source": [
    "k = l.copy()\n",
    "print(k)\n",
    "l.sort()\n",
    "print(l)\n",
    "d = k.copy()\n",
    "d.sort(reverse=True)\n",
    "print(d)"
   ]
  },
  {
   "cell_type": "code",
   "execution_count": 24,
   "metadata": {},
   "outputs": [
    {
     "name": "stdout",
     "output_type": "stream",
     "text": [
      "(1, 2, 3, 'hello', 'hi', 'how')\n"
     ]
    }
   ],
   "source": [
    "t = (1,2,3,'hello','hi','how')\n",
    "# all tuples are same as list except tuples are immutble\n",
    "print(t)"
   ]
  },
  {
   "cell_type": "code",
   "execution_count": null,
   "metadata": {},
   "outputs": [],
   "source": [
    "di={}"
   ]
  },
  {
   "cell_type": "code",
   "execution_count": null,
   "metadata": {},
   "outputs": [],
   "source": [
    "for var in range(10):\n",
    "    di.setdefault(var,[])"
   ]
  }
 ],
 "metadata": {
  "kernelspec": {
   "display_name": "Python 3",
   "language": "python",
   "name": "python3"
  },
  "language_info": {
   "codemirror_mode": {
    "name": "ipython",
    "version": 3
   },
   "file_extension": ".py",
   "mimetype": "text/x-python",
   "name": "python",
   "nbconvert_exporter": "python",
   "pygments_lexer": "ipython3",
   "version": "3.7.0"
  }
 },
 "nbformat": 4,
 "nbformat_minor": 2
}
