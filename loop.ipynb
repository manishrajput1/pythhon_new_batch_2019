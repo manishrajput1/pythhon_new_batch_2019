{
 "cells": [
  {
   "cell_type": "code",
   "execution_count": 1,
   "metadata": {},
   "outputs": [
    {
     "name": "stdout",
     "output_type": "stream",
     "text": [
      "var1= 0\n",
      "var1= 1\n",
      "var1= 2\n",
      "var1= 3\n",
      "var1= 4\n",
      "var1= 5\n",
      "var1= 6\n",
      "var1= 7\n",
      "var1= 8\n",
      "var1= 9\n",
      "var= 0\n",
      "var1= 0\n",
      "var1= 1\n",
      "var1= 2\n",
      "var1= 3\n",
      "var1= 4\n",
      "var1= 5\n",
      "var1= 6\n",
      "var1= 7\n",
      "var1= 8\n",
      "var1= 9\n",
      "var= 1\n",
      "var1= 0\n",
      "var1= 1\n",
      "var1= 2\n",
      "var1= 3\n",
      "var1= 4\n",
      "var1= 5\n",
      "var1= 6\n",
      "var1= 7\n",
      "var1= 8\n",
      "var1= 9\n",
      "var= 2\n",
      "var1= 0\n",
      "var1= 1\n",
      "var1= 2\n",
      "var1= 3\n",
      "var1= 4\n",
      "var1= 5\n",
      "var1= 6\n",
      "var1= 7\n",
      "var1= 8\n",
      "var1= 9\n",
      "var= 3\n",
      "var1= 0\n",
      "var1= 1\n",
      "var1= 2\n",
      "var1= 3\n",
      "var1= 4\n",
      "var1= 5\n",
      "var1= 6\n",
      "var1= 7\n",
      "var1= 8\n",
      "var1= 9\n",
      "var= 4\n",
      "var1= 0\n",
      "var1= 1\n",
      "var1= 2\n",
      "var1= 3\n",
      "var1= 4\n",
      "var1= 5\n",
      "var1= 6\n",
      "var1= 7\n",
      "var1= 8\n",
      "var1= 9\n",
      "var= 5\n",
      "var1= 0\n",
      "var1= 1\n",
      "var1= 2\n",
      "var1= 3\n",
      "var1= 4\n",
      "var1= 5\n",
      "var1= 6\n",
      "var1= 7\n",
      "var1= 8\n",
      "var1= 9\n",
      "var= 6\n",
      "var1= 0\n",
      "var1= 1\n",
      "var1= 2\n",
      "var1= 3\n",
      "var1= 4\n",
      "var1= 5\n",
      "var1= 6\n",
      "var1= 7\n",
      "var1= 8\n",
      "var1= 9\n",
      "var= 7\n",
      "var1= 0\n",
      "var1= 1\n",
      "var1= 2\n",
      "var1= 3\n",
      "var1= 4\n",
      "var1= 5\n",
      "var1= 6\n",
      "var1= 7\n",
      "var1= 8\n",
      "var1= 9\n",
      "var= 8\n",
      "var1= 0\n",
      "var1= 1\n",
      "var1= 2\n",
      "var1= 3\n",
      "var1= 4\n",
      "var1= 5\n",
      "var1= 6\n",
      "var1= 7\n",
      "var1= 8\n",
      "var1= 9\n",
      "var= 9\n"
     ]
    }
   ],
   "source": [
    "for var in range(10):\n",
    "    for var1 in range(10):\n",
    "        print('var1=',var1)\n",
    "    print('var=',var)"
   ]
  },
  {
   "cell_type": "code",
   "execution_count": 8,
   "metadata": {},
   "outputs": [
    {
     "name": "stdout",
     "output_type": "stream",
     "text": [
      "****\n",
      "**5*\n",
      "****\n",
      "****\n"
     ]
    }
   ],
   "source": [
    "for row in range(4):\n",
    "    for col in range(4):\n",
    "        if row==1 and col==2:\n",
    "            print('5',end='')\n",
    "        else:\n",
    "            print(end='*')\n",
    "    print()"
   ]
  },
  {
   "cell_type": "code",
   "execution_count": 15,
   "metadata": {},
   "outputs": [
    {
     "name": "stdout",
     "output_type": "stream",
     "text": [
      "\n",
      "1 \n",
      "1 2 \n",
      "1 2 3 \n",
      "1 2 3 4 \n",
      "1 2 3 4 5 \n",
      "1 2 3 4 5 6 \n"
     ]
    }
   ],
   "source": [
    "for row in range(1,8):\n",
    "    for col in range(1,row):\n",
    "        print(col,end=' ')\n",
    "    print()"
   ]
  },
  {
   "cell_type": "code",
   "execution_count": 26,
   "metadata": {},
   "outputs": [
    {
     "name": "stdout",
     "output_type": "stream",
     "text": [
      "           * \n",
      "          * * \n",
      "         * * * \n",
      "        * * * * \n",
      "       * * * * * \n",
      "         * * * \n",
      "        * * * * \n",
      "       * * * * * \n",
      "      * * * * * * \n",
      "     * * * * * * * \n",
      "       * * * * * \n",
      "      * * * * * * \n",
      "     * * * * * * * \n",
      "    * * * * * * * * \n",
      "   * * * * * * * * * \n",
      "     * * * * * * * \n",
      "    * * * * * * * * \n",
      "   * * * * * * * * * \n",
      "  * * * * * * * * * * \n",
      " * * * * * * * * * * * \n",
      "     * * * * * * * \n",
      "     * * * * * * * \n",
      "     * * * * * * * \n",
      "     * * * * * * * \n",
      "     * * * * * * * \n",
      "     * * * * * * * \n",
      "     * * * * * * * \n"
     ]
    }
   ],
   "source": [
    "for var in range(1,6):\n",
    "    print(' '*(12-var)+'* '*var)\n",
    "for var in range(3,8):\n",
    "    print(' '*(12-var)+'* '*var)\n",
    "for var in range(5,10):\n",
    "    print(' '*(12-var)+'* '*var)\n",
    "for var in range(7,12):\n",
    "    print(' '*(12-var)+'* '*var)\n",
    "for var in range(7):\n",
    "    print(' '*5+'* '*7)"
   ]
  },
  {
   "cell_type": "code",
   "execution_count": 28,
   "metadata": {},
   "outputs": [
    {
     "name": "stdout",
     "output_type": "stream",
     "text": [
      "      \n",
      "     * \n",
      "    * * \n",
      "   * * * \n",
      "  * * * * \n",
      " * * * * * \n"
     ]
    }
   ],
   "source": [
    "for var in range(6):\n",
    "    print(' '*(6-var)+'* '*var)"
   ]
  },
  {
   "cell_type": "code",
   "execution_count": 30,
   "metadata": {},
   "outputs": [
    {
     "name": "stdout",
     "output_type": "stream",
     "text": [
      "A\n",
      "BB\n",
      "CCC\n",
      "DDDD\n",
      "EEEEE\n",
      "FFFFFF\n",
      "GGGGGGG\n",
      "HHHHHHHH\n",
      "IIIIIIIII\n",
      "JJJJJJJJJJ\n",
      "KKKKKKKKKKK\n",
      "LLLLLLLLLLLL\n",
      "MMMMMMMMMMMMM\n",
      "NNNNNNNNNNNNNN\n",
      "OOOOOOOOOOOOOOO\n",
      "PPPPPPPPPPPPPPPP\n",
      "QQQQQQQQQQQQQQQQQ\n",
      "RRRRRRRRRRRRRRRRRR\n",
      "SSSSSSSSSSSSSSSSSSS\n",
      "TTTTTTTTTTTTTTTTTTTT\n",
      "UUUUUUUUUUUUUUUUUUUUU\n",
      "VVVVVVVVVVVVVVVVVVVVVV\n",
      "WWWWWWWWWWWWWWWWWWWWWWW\n",
      "XXXXXXXXXXXXXXXXXXXXXXXX\n",
      "YYYYYYYYYYYYYYYYYYYYYYYYY\n",
      "ZZZZZZZZZZZZZZZZZZZZZZZZZZ\n"
     ]
    }
   ],
   "source": [
    "c=1\n",
    "for var in range(65,91):\n",
    "    \n",
    "    print(chr(var)*c)\n",
    "    c=c+1"
   ]
  },
  {
   "cell_type": "code",
   "execution_count": null,
   "metadata": {},
   "outputs": [],
   "source": []
  },
  {
   "cell_type": "code",
   "execution_count": 42,
   "metadata": {},
   "outputs": [
    {
     "name": "stdout",
     "output_type": "stream",
     "text": [
      "* * * * * * * * * * \n",
      "        *         * \n",
      "        *         * \n",
      "        *         * \n",
      "        *         * \n",
      "        *         * \n",
      "        *         * \n",
      "        *         * \n",
      "        *         * \n",
      "* * * * * * * * * * \n"
     ]
    }
   ],
   "source": [
    "for row in range(10):\n",
    "    for col in range(10):\n",
    "        if row==0 or row==9 or col==4 or col==9:\n",
    "            print('*',end=' ')\n",
    "        else:\n",
    "            print(end='  ')\n",
    "    print()"
   ]
  },
  {
   "cell_type": "code",
   "execution_count": 5,
   "metadata": {},
   "outputs": [
    {
     "name": "stdout",
     "output_type": "stream",
     "text": [
      "Enter odd number7\n",
      "*     * * * * \n",
      "*     *       \n",
      "*     *       \n",
      "* * * * * * * \n",
      "      *     * \n",
      "      *     * \n",
      "* * * *     * \n"
     ]
    }
   ],
   "source": [
    "n=int(input('Enter odd number'))\n",
    "if n%2:\n",
    "    \n",
    "    for var in range(n):\n",
    "        for col in range(n):\n",
    "            if var==(n-1)/2 or col==(n-1)/2 or (var<=(n-1)/2 and col==0) or( var==0 and col>=(n-1)/2) or(col==(n-1) and var>=(n-1)/2) or(var==n-1 and col<=(n-1)/2):\n",
    "                print('*',end=' ')\n",
    "            else:\n",
    "                print(end='  ')\n",
    "        print()\n",
    "else:\n",
    "    print('enter odd number')"
   ]
  },
  {
   "cell_type": "code",
   "execution_count": 52,
   "metadata": {},
   "outputs": [],
   "source": [
    "import random"
   ]
  },
  {
   "cell_type": "code",
   "execution_count": 64,
   "metadata": {},
   "outputs": [
    {
     "data": {
      "text/plain": [
       "0.1784893527589223"
      ]
     },
     "execution_count": 64,
     "metadata": {},
     "output_type": "execute_result"
    }
   ],
   "source": [
    "random.random()"
   ]
  },
  {
   "cell_type": "code",
   "execution_count": 65,
   "metadata": {},
   "outputs": [],
   "source": [
    "l=['hello','python','how','are','you']"
   ]
  },
  {
   "cell_type": "code",
   "execution_count": 69,
   "metadata": {},
   "outputs": [
    {
     "data": {
      "text/plain": [
       "'hello'"
      ]
     },
     "execution_count": 69,
     "metadata": {},
     "output_type": "execute_result"
    }
   ],
   "source": [
    "random.choice(l)"
   ]
  },
  {
   "cell_type": "code",
   "execution_count": 75,
   "metadata": {},
   "outputs": [
    {
     "name": "stdout",
     "output_type": "stream",
     "text": [
      "enter your choicep\n",
      "user= p\n",
      "computer = s\n",
      "oh you are such a looser:\n"
     ]
    }
   ],
   "source": [
    "import time\n",
    "import os\n",
    "choice=[('r','p'),('s','r'),('p','s')]\n",
    "ch=['r','s','p']\n",
    "user=input('enter your choice')\n",
    "com=random.choice(ch)\n",
    "print('user=',user)\n",
    "print('computer =',com)\n",
    "res=(com,user)\n",
    "if res in choice:\n",
    "    print('loading..')\n",
    "    time.sleep(3)\n",
    "    print('you are won the match:')\n",
    "elif com==user:\n",
    "    time.sleep(3)\n",
    "    print('loading..')\n",
    "    print('match tie')\n",
    "else:\n",
    "    time.sleep(3)\n",
    "    print('oh you are such a looser:')\n",
    "    "
   ]
  },
  {
   "cell_type": "code",
   "execution_count": 76,
   "metadata": {},
   "outputs": [],
   "source": [
    "import smtplib"
   ]
  },
  {
   "cell_type": "code",
   "execution_count": null,
   "metadata": {},
   "outputs": [],
   "source": []
  },
  {
   "cell_type": "code",
   "execution_count": 82,
   "metadata": {},
   "outputs": [],
   "source": [
    "smtplib.LMTP.sendmail?"
   ]
  },
  {
   "cell_type": "code",
   "execution_count": 89,
   "metadata": {},
   "outputs": [
    {
     "data": {
      "text/plain": [
       "'172.217.163.196'"
      ]
     },
     "execution_count": 89,
     "metadata": {},
     "output_type": "execute_result"
    }
   ],
   "source": [
    " import socket\n",
    "h=socket.gethostbyname('172.217.163.196')\n",
    "h"
   ]
  },
  {
   "cell_type": "code",
   "execution_count": 90,
   "metadata": {},
   "outputs": [],
   "source": [
    "host=socket.gethostbyaddr('172.217.163.196')"
   ]
  },
  {
   "cell_type": "code",
   "execution_count": 92,
   "metadata": {},
   "outputs": [
    {
     "name": "stdout",
     "output_type": "stream",
     "text": [
      "('maa05s06-in-f4.1e100.net', [], ['172.217.163.196'])\n"
     ]
    }
   ],
   "source": [
    "print(host)"
   ]
  },
  {
   "cell_type": "code",
   "execution_count": 93,
   "metadata": {},
   "outputs": [
    {
     "name": "stdout",
     "output_type": "stream",
     "text": [
      "['AF_APPLETALK', 'AF_DECnet', 'AF_INET', 'AF_INET6', 'AF_IPX', 'AF_IRDA', 'AF_SNA', 'AF_UNSPEC', 'AI_ADDRCONFIG', 'AI_ALL', 'AI_CANONNAME', 'AI_NUMERICHOST', 'AI_NUMERICSERV', 'AI_PASSIVE', 'AI_V4MAPPED', 'AddressFamily', 'AddressInfo', 'CAPI', 'EAGAIN', 'EAI_AGAIN', 'EAI_BADFLAGS', 'EAI_FAIL', 'EAI_FAMILY', 'EAI_MEMORY', 'EAI_NODATA', 'EAI_NONAME', 'EAI_SERVICE', 'EAI_SOCKTYPE', 'EBADF', 'EWOULDBLOCK', 'INADDR_ALLHOSTS_GROUP', 'INADDR_ANY', 'INADDR_BROADCAST', 'INADDR_LOOPBACK', 'INADDR_MAX_LOCAL_GROUP', 'INADDR_NONE', 'INADDR_UNSPEC_GROUP', 'IPPORT_RESERVED', 'IPPORT_USERRESERVED', 'IPPROTO_ICMP', 'IPPROTO_IP', 'IPPROTO_RAW', 'IPPROTO_TCP', 'IPPROTO_UDP', 'IPV6_CHECKSUM', 'IPV6_DONTFRAG', 'IPV6_HOPLIMIT', 'IPV6_HOPOPTS', 'IPV6_JOIN_GROUP', 'IPV6_LEAVE_GROUP', 'IPV6_MULTICAST_HOPS', 'IPV6_MULTICAST_IF', 'IPV6_MULTICAST_LOOP', 'IPV6_PKTINFO', 'IPV6_RECVRTHDR', 'IPV6_RECVTCLASS', 'IPV6_RTHDR', 'IPV6_TCLASS', 'IPV6_UNICAST_HOPS', 'IPV6_V6ONLY', 'IP_ADD_MEMBERSHIP', 'IP_DROP_MEMBERSHIP', 'IP_HDRINCL', 'IP_MULTICAST_IF', 'IP_MULTICAST_LOOP', 'IP_MULTICAST_TTL', 'IP_OPTIONS', 'IP_RECVDSTADDR', 'IP_TOS', 'IP_TTL', 'IntEnum', 'IntFlag', 'MSG_BCAST', 'MSG_CTRUNC', 'MSG_DONTROUTE', 'MSG_ERRQUEUE', 'MSG_MCAST', 'MSG_OOB', 'MSG_PEEK', 'MSG_TRUNC', 'MSG_WAITALL', 'MsgFlag', 'NI_DGRAM', 'NI_MAXHOST', 'NI_MAXSERV', 'NI_NAMEREQD', 'NI_NOFQDN', 'NI_NUMERICHOST', 'NI_NUMERICSERV', 'RCVALL_MAX', 'RCVALL_OFF', 'RCVALL_ON', 'RCVALL_SOCKETLEVELONLY', 'SHUT_RD', 'SHUT_RDWR', 'SHUT_WR', 'SIO_KEEPALIVE_VALS', 'SIO_LOOPBACK_FAST_PATH', 'SIO_RCVALL', 'SOCK_DGRAM', 'SOCK_RAW', 'SOCK_RDM', 'SOCK_SEQPACKET', 'SOCK_STREAM', 'SOL_IP', 'SOL_SOCKET', 'SOL_TCP', 'SOL_UDP', 'SOMAXCONN', 'SO_ACCEPTCONN', 'SO_BROADCAST', 'SO_DEBUG', 'SO_DONTROUTE', 'SO_ERROR', 'SO_EXCLUSIVEADDRUSE', 'SO_KEEPALIVE', 'SO_LINGER', 'SO_OOBINLINE', 'SO_RCVBUF', 'SO_RCVLOWAT', 'SO_RCVTIMEO', 'SO_REUSEADDR', 'SO_SNDBUF', 'SO_SNDLOWAT', 'SO_SNDTIMEO', 'SO_TYPE', 'SO_USELOOPBACK', 'SocketIO', 'SocketKind', 'SocketType', 'TCP_FASTOPEN', 'TCP_KEEPCNT', 'TCP_KEEPIDLE', 'TCP_KEEPINTVL', 'TCP_MAXSEG', 'TCP_NODELAY', '_GLOBAL_DEFAULT_TIMEOUT', '_GiveupOnSendfile', '_LOCALHOST', '_LOCALHOST_V6', '__all__', '__builtins__', '__cached__', '__doc__', '__file__', '__loader__', '__name__', '__package__', '__spec__', '_blocking_errnos', '_intenum_converter', '_realsocket', '_socket', 'close', 'create_connection', 'dup', 'errno', 'error', 'errorTab', 'fromfd', 'fromshare', 'gaierror', 'getaddrinfo', 'getdefaulttimeout', 'getfqdn', 'gethostbyaddr', 'gethostbyname', 'gethostbyname_ex', 'gethostname', 'getnameinfo', 'getprotobyname', 'getservbyname', 'getservbyport', 'has_ipv6', 'herror', 'htonl', 'htons', 'inet_aton', 'inet_ntoa', 'inet_ntop', 'inet_pton', 'io', 'ntohl', 'ntohs', 'os', 'selectors', 'setdefaulttimeout', 'socket', 'socketpair', 'sys', 'timeout']\n"
     ]
    }
   ],
   "source": [
    "print(dir(socket))"
   ]
  },
  {
   "cell_type": "code",
   "execution_count": 94,
   "metadata": {},
   "outputs": [
    {
     "name": "stdout",
     "output_type": "stream",
     "text": [
      "enter any site namehttps://dearlove911.blogspot.com/?m=1\n"
     ]
    },
    {
     "data": {
      "text/plain": [
       "True"
      ]
     },
     "execution_count": 94,
     "metadata": {},
     "output_type": "execute_result"
    }
   ],
   "source": [
    "import webbrowser\n",
    "host=input('enter any site name')\n",
    "webbrowser.open(host)\n"
   ]
  },
  {
   "cell_type": "code",
   "execution_count": null,
   "metadata": {},
   "outputs": [],
   "source": []
  }
 ],
 "metadata": {
  "kernelspec": {
   "display_name": "Python 3",
   "language": "python",
   "name": "python3"
  },
  "language_info": {
   "codemirror_mode": {
    "name": "ipython",
    "version": 3
   },
   "file_extension": ".py",
   "mimetype": "text/x-python",
   "name": "python",
   "nbconvert_exporter": "python",
   "pygments_lexer": "ipython3",
   "version": "3.7.0"
  }
 },
 "nbformat": 4,
 "nbformat_minor": 2
}
